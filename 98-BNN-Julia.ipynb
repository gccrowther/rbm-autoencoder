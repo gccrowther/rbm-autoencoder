{
 "cells": [
  {
   "cell_type": "markdown",
   "id": "46b87914-5fc2-4477-bd6a-310d7a5e92d8",
   "metadata": {},
   "source": [
    "# Bayesian Machine Learning\n",
    "\n",
    "Objective of the exercise is to find a posterior distribution via Bayes' law:\n",
    "\n",
    "$p(\\theta|D) = \\frac{p(D|\\theta)p(\\theta)}{p(D)}$\n",
    "\n",
    "As the data term in the denominator is a constant, we can simplify:\n",
    "\n",
    "$p(\\theta|D) \\propto p(D|\\theta)p(\\theta)$\n",
    "\n",
    "Where $p(\\theta)$ is the **prior distribution** and $p(D|\\theta)$ is the **likelihood function**.\n",
    "\n",
    "For a Bayesian Neural Network regression, we can further specify the likelihood function:\n",
    "\n",
    "$p(D|\\theta) = \\prod_{i=1}^{N} \\mathcal{N}(y_i|f_W(X_i), \\sigma^2)$\n",
    "\n",
    "This denotes a product of independent normal distributions with means defined by the outputs of a Neural Network. The variance of the Normal distribution is chosen to be a constant.\n",
    "\n",
    "The corresponding prior distribution could look as follows:\n",
    "\n",
    "$p(\\theta) = p(W, \\sigma) = \\prod_{k=1}{K}\\mathcal{N}(W_k|0, 1)\\dot\\Gamma(1, 1)$\n",
    "\n",
    "The priors for **K** networks weights are independent standard normal distributions. For the square root of the variance (a.k.a. standard deviation), we use a standard gamma distribution.\n",
    "\n",
    "\n",
    "### Steps\n",
    "1. Define the likelihood function\n",
    "2. Define the prior distribution\n",
    "3. Train the model"
   ]
  },
  {
   "cell_type": "code",
   "execution_count": 3,
   "id": "3b698f7e-e6b4-4c08-84fb-f47a316eee0b",
   "metadata": {},
   "outputs": [
    {
     "name": "stderr",
     "output_type": "stream",
     "text": [
      "\u001b[32m\u001b[1m    Updating\u001b[22m\u001b[39m registry at `C:\\Users\\crowthg\\.julia\\registries\\General.toml`\n",
      "\u001b[32m\u001b[1m   Resolving\u001b[22m\u001b[39m package versions...\n",
      "\u001b[32m\u001b[1m   Installed\u001b[22m\u001b[39m Flux ─ v0.13.7\n",
      "\u001b[32m\u001b[1m    Updating\u001b[22m\u001b[39m `C:\\Users\\crowthg\\.julia\\environments\\v1.8\\Project.toml`\n",
      " \u001b[90m [587475ba] \u001b[39m\u001b[92m+ Flux v0.13.7\u001b[39m\n",
      "\u001b[32m\u001b[1m    Updating\u001b[22m\u001b[39m `C:\\Users\\crowthg\\.julia\\environments\\v1.8\\Manifest.toml`\n",
      " \u001b[90m [587475ba] \u001b[39m\u001b[93m↑ Flux v0.13.6 ⇒ v0.13.7\u001b[39m\n",
      "\u001b[32m\u001b[1mPrecompiling\u001b[22m\u001b[39m project...\n",
      "\u001b[32m  ✓ \u001b[39mFlux\n",
      "\u001b[32m  ✓ \u001b[39m\u001b[90mOptimizationFlux\u001b[39m\n",
      "\u001b[32m  ✓ \u001b[39mDiffEqFlux\n",
      "  3 dependencies successfully precompiled in 111 seconds. 472 already precompiled.\n"
     ]
    }
   ],
   "source": [
    "import Pkg;\n",
    "Pkg.add(\"Flux\")"
   ]
  },
  {
   "cell_type": "code",
   "execution_count": 11,
   "id": "8d944cac-79b9-448c-b3f2-665d1140de35",
   "metadata": {},
   "outputs": [],
   "source": [
    "using Flux\n",
    "using Distributions\n",
    "\n",
    "\n",
    "struct Likelihood\n",
    "    network\n",
    "    sigma\n",
    "end\n",
    "\n",
    "Flux.@functor Likelihood\n",
    "\n",
    "(p::Likelihood)(x) = Normal.(p.network(x)[:], p_sigma[1])"
   ]
  },
  {
   "cell_type": "code",
   "execution_count": 12,
   "id": "d0768cdd-819b-41c7-ba66-4caded1ad951",
   "metadata": {},
   "outputs": [
    {
     "data": {
      "text/plain": [
       "likelihood_conditional (generic function with 1 method)"
      ]
     },
     "execution_count": 12,
     "metadata": {},
     "output_type": "execute_result"
    }
   ],
   "source": [
    "likelihood = Likelihood(Chain(Dense(1, 5, tanh), Dense(5, 1)), ones(1, 1))\n",
    "\n",
    "params, likelihood_reconstructor = Flux.destructure(likelihood)\n",
    "n_weights = length(params) - 1\n",
    "\n",
    "likelihood_conditional(weights, sigma) = likelihood_reconstructor(vcat(weights..., sigma))"
   ]
  },
  {
   "cell_type": "code",
   "execution_count": 14,
   "id": "c25e937b-4718-4fbe-b333-bf69d965593a",
   "metadata": {},
   "outputs": [
    {
     "data": {
      "text/plain": [
       "Gamma{Float64}(α=1.0, θ=1.0)"
      ]
     },
     "execution_count": 14,
     "metadata": {},
     "output_type": "execute_result"
    }
   ],
   "source": [
    "weight_prior = MvNormal(zeros(n_weights), ones(n_weights))\n",
    "sigma_prior = Gamma(1., 1.)"
   ]
  },
  {
   "cell_type": "code",
   "execution_count": 17,
   "id": "a06a8762-2b13-4fad-9f8c-597dcc8f13c5",
   "metadata": {},
   "outputs": [
    {
     "ename": "LoadError",
     "evalue": "UndefVarError: p_sigma not defined",
     "output_type": "error",
     "traceback": [
      "UndefVarError: p_sigma not defined",
      "",
      "Stacktrace:",
      " [1] (::Likelihood)(x::Matrix{Float64})",
      "   @ Main .\\In[11]:12",
      " [2] top-level scope",
      "   @ In[17]:2",
      " [3] eval",
      "   @ .\\boot.jl:368 [inlined]",
      " [4] include_string(mapexpr::typeof(REPL.softscope), mod::Module, code::String, filename::String)",
      "   @ Base .\\loading.jl:1428"
     ]
    }
   ],
   "source": [
    "Xline = Matrix(transpose(collect(-3:0.1:3)[:, :]))\n",
    "likelihood_conditional(rand(weight_prior), rand(sigma_prior))(Xline)"
   ]
  },
  {
   "cell_type": "code",
   "execution_count": null,
   "id": "05539814-7792-45c1-b0a2-d31f9f616394",
   "metadata": {},
   "outputs": [],
   "source": []
  }
 ],
 "metadata": {
  "kernelspec": {
   "display_name": "Julia 1.8.2",
   "language": "julia",
   "name": "julia-1.8"
  },
  "language_info": {
   "file_extension": ".jl",
   "mimetype": "application/julia",
   "name": "julia",
   "version": "1.8.2"
  }
 },
 "nbformat": 4,
 "nbformat_minor": 5
}
