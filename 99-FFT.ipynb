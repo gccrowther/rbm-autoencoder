{
 "cells": [
  {
   "cell_type": "code",
   "execution_count": 1,
   "id": "4343165a-cd6a-4379-ab88-9ac45c204124",
   "metadata": {},
   "outputs": [
    {
     "data": {
      "text/html": [
       "\n",
       "                <script type=\"application/javascript\" id=\"jupyter_black\">\n",
       "                (function() {\n",
       "                    if (window.IPython === undefined) {\n",
       "                        return\n",
       "                    }\n",
       "                    var msg = \"WARNING: it looks like you might have loaded \" +\n",
       "                        \"jupyter_black in a non-lab notebook with \" +\n",
       "                        \"`is_lab=True`. Please double check, and if \" +\n",
       "                        \"loading with `%load_ext` please review the README!\"\n",
       "                    console.log(msg)\n",
       "                    alert(msg)\n",
       "                })()\n",
       "                </script>\n",
       "                "
      ],
      "text/plain": [
       "<IPython.core.display.HTML object>"
      ]
     },
     "metadata": {},
     "output_type": "display_data"
    }
   ],
   "source": [
    "import numpy as np\n",
    "import jupyter_black\n",
    "\n",
    "\n",
    "jupyter_black.load()"
   ]
  },
  {
   "cell_type": "markdown",
   "id": "9f524a74-4aa3-4e74-80c3-520ef2d5bb8d",
   "metadata": {},
   "source": [
    "# The Discrete Fourier Transform\n",
    "The FFT is a fast $\\mathcal{O}[NlogN]$ algorithm to compute the Discrete Fourier Transform DFT, which naively is an $\\mathcal{0}[N^2]$ computation.\n",
    "\n",
    "#### Forward Discrete Fourier Transform (DFT):\n",
    "\n",
    "\\begin{align}\n",
    "X_k = \\sum_{n=0}^{N-1}x_n . e^{\\frac{-i2\\pi kn}{N}}\n",
    "\\end{align}\n",
    "\n",
    "##### Inverse Discrete Fourier Transform (IDFT):\n",
    "\n",
    "\\begin{align}\n",
    "X_n = \\frac{1}{N}\\sum_{k=0}^{N-1}X_k e^{\\frac{i 2\\pi k n}{N}}\n",
    "\\end{align}\n",
    "\n",
    "\n",
    "This forward component of this boils down to a linear operation on $x$:\n",
    "\n",
    "\\begin{align}\n",
    "\\overrightarrow{X} = M . \\overrightarrow{x}\n",
    "\\end{align}\n",
    "\n",
    "with $M$ given by:\n",
    "\\begin{align}\n",
    "M_{kn} = e^{\\frac{-i 2\\pi k n}{N}}\n",
    "\\end{align}\n"
   ]
  },
  {
   "cell_type": "code",
   "execution_count": 2,
   "id": "8271ad2c-9ec8-416d-bd61-514e26bfa10f",
   "metadata": {},
   "outputs": [],
   "source": [
    "def DFT_python(x):\n",
    "    x = np.asarray(x, dtype=float)\n",
    "    N = x.shape[0]\n",
    "    n = np.arange(N)\n",
    "    k = n.reshape((N, 1))\n",
    "    M = np.exp(-2j * np.pi * k * n / N)\n",
    "    return np.dot(M, x)"
   ]
  },
  {
   "cell_type": "code",
   "execution_count": 3,
   "id": "9206c96f-de0a-461d-98ca-85b4a2224ac7",
   "metadata": {},
   "outputs": [
    {
     "data": {
      "text/plain": [
       "True"
      ]
     },
     "execution_count": 3,
     "metadata": {},
     "output_type": "execute_result"
    }
   ],
   "source": [
    "x = np.random.random(1024)\n",
    "np.allclose(DFT_python(x), np.fft.fft(x))"
   ]
  },
  {
   "cell_type": "code",
   "execution_count": 4,
   "id": "0c12ee87-b9e8-45fa-9649-47469b8003f4",
   "metadata": {},
   "outputs": [
    {
     "name": "stdout",
     "output_type": "stream",
     "text": [
      "51.1 ms ± 1.81 ms per loop (mean ± std. dev. of 7 runs, 10 loops each)\n",
      "11.3 µs ± 504 ns per loop (mean ± std. dev. of 7 runs, 100000 loops each)\n"
     ]
    }
   ],
   "source": [
    "%timeit DFT_python(x)\n",
    "%timeit np.fft.fft(x)"
   ]
  },
  {
   "cell_type": "markdown",
   "id": "8aa61459-6f78-4194-9cbd-696c6f78c51b",
   "metadata": {},
   "source": [
    "There are a miriad of different reasons why our python version is ~5000 times slower than the numpy method, from its implementation as a series of python operations on numpy objects (though the numerical heavy lifting is done by numpy, which is very rapid).\n",
    "The primary reason is that the numpy version is fundamentally an $\\mathcal{O}[NlogN]$ solution, where as the DFT implemented above is an $\\mathcal{O}[N^2]$."
   ]
  },
  {
   "cell_type": "markdown",
   "id": "97533614-f356-48b4-8e72-26c0958d9ea7",
   "metadata": {},
   "source": [
    "## Symmetries in the DFT\n",
    "\n",
    "\\begin{align}\n",
    "X_{N+k} &= \\sum_{n=0}^{N-1}x_n . e^{i 2\\pi (N+k) n/N} \\\\\n",
    "&= \\sum_{n=0}^{N-1}x_n . e^{i 2\\pi n}.e^{-i 2\\pi k n / N} \\\\\n",
    "&= \\sum_{n=0}^{N-1}x_n . e^{-i2\\pi k n / N}\n",
    "\\end{align}\n"
   ]
  },
  {
   "cell_type": "markdown",
   "id": "ae6c72cb-dd8a-4237-9ea1-6213b78bc561",
   "metadata": {},
   "source": [
    "## DFT to FFT\n",
    "\n",
    "\\begin{align}\n",
    "X_k &= \\sum_{n=0}^{N-1}x_n . e^{-i2\\pi k n /N} \\\\\n",
    "    &= \\sum_{m=0}^{N/2 - 1} x_{2m} . e^{-i2\\pi k (2m) / N} + \\sum_{m=0}^{N/2-1}x_{2m+1} . e^{-i2\\pi k (2m + 1) / N} \\\\\n",
    "    &= \\sum_{m=0}^{N/2 - 1} x_{2m} . e^{-i2\\pi k m / (N/2)} + e^{-i2\\pi k/N}\\sum_{m=0}^{N/2 - 1} x_{2m+1} . e^{-i2\\pi k m / (N/2)}\\\\\n",
    "\\end{align}"
   ]
  },
  {
   "cell_type": "code",
   "execution_count": 17,
   "id": "68764f69-b825-4c12-8789-7dbe332b4af8",
   "metadata": {},
   "outputs": [],
   "source": [
    "def FFT(x):\n",
    "    x = np.asarray(x, dtype=float)\n",
    "    N = x.shape[0]\n",
    "    if N % 2 > 0:\n",
    "        raise ValueError(\"Size of x must be a power of 2\")\n",
    "    elif N <= 32:\n",
    "        return DFT_python(x)\n",
    "    else:\n",
    "        X_even = FFT(x[::2])\n",
    "        X_odd = FFT(x[1::2])\n",
    "        factor = np.exp(-2j * np.pi * np.arange(N) / N)\n",
    "        return np.concatenate(\n",
    "            [X_even + factor[: N // 2] * X_odd, X_even + factor[N // 2 :] * X_odd]\n",
    "        )"
   ]
  },
  {
   "cell_type": "code",
   "execution_count": 18,
   "id": "9250a0d1-0b62-4334-9be5-afaede7526fd",
   "metadata": {},
   "outputs": [
    {
     "data": {
      "text/plain": [
       "True"
      ]
     },
     "execution_count": 18,
     "metadata": {},
     "output_type": "execute_result"
    }
   ],
   "source": [
    "x = np.random.random(1024)\n",
    "np.allclose(FFT(x), np.fft.fft(x))"
   ]
  },
  {
   "cell_type": "code",
   "execution_count": 19,
   "id": "f6095060-8e7b-4186-8a6f-35682da2d849",
   "metadata": {},
   "outputs": [
    {
     "name": "stdout",
     "output_type": "stream",
     "text": [
      "59.5 ms ± 2.61 ms per loop (mean ± std. dev. of 7 runs, 10 loops each)\n",
      "2.31 ms ± 320 µs per loop (mean ± std. dev. of 7 runs, 100 loops each)\n",
      "11.6 µs ± 288 ns per loop (mean ± std. dev. of 7 runs, 100000 loops each)\n"
     ]
    }
   ],
   "source": [
    "%timeit DFT_python(x)\n",
    "%timeit FFT(x)\n",
    "%timeit np.fft.fft(x)"
   ]
  },
  {
   "cell_type": "code",
   "execution_count": 20,
   "id": "d33dd505-9580-475a-872c-d19e961b0da7",
   "metadata": {},
   "outputs": [],
   "source": [
    "def FFT_vectorised(x):\n",
    "    x = np.asarray(x, dtype=float)\n",
    "    N = x.shape[0]\n",
    "\n",
    "    if np.log2(N) % 1 > 0:\n",
    "        raise ValueError(\"size of x must be a power of 2\")\n",
    "\n",
    "    N_min = min(N, 32)\n",
    "\n",
    "    n = np.arange(N_min)\n",
    "    k = n[:, None]\n",
    "    M = np.exp(-2j * np.pi * n * k / N_min)\n",
    "    X = np.dot(M, x.reshape((N_min, -1)))\n",
    "\n",
    "    while X.shape[0] < N:\n",
    "        X_even = X[:, : X.shape[1] // 2]\n",
    "        X_odd = X[:, X.shape[1] // 2 :]\n",
    "        factor = np.exp(-1j * np.pi * np.arange(X.shape[0]) / X.shape[0])[:, None]\n",
    "        X = np.vstack([X_even + factor * X_odd, X_even - factor * X_odd])\n",
    "\n",
    "    return X.ravel()"
   ]
  },
  {
   "cell_type": "code",
   "execution_count": 21,
   "id": "9ff549c6-6e43-4946-8b57-0743f811e55f",
   "metadata": {},
   "outputs": [
    {
     "data": {
      "text/plain": [
       "True"
      ]
     },
     "execution_count": 21,
     "metadata": {},
     "output_type": "execute_result"
    }
   ],
   "source": [
    "x = np.random.random(1024)\n",
    "np.allclose(FFT_vectorised(x), np.fft.fft(x))"
   ]
  },
  {
   "cell_type": "code",
   "execution_count": 22,
   "id": "21c12e15-01f5-4fc3-b714-951c738aef37",
   "metadata": {},
   "outputs": [
    {
     "name": "stdout",
     "output_type": "stream",
     "text": [
      "57.1 ms ± 2.97 ms per loop (mean ± std. dev. of 7 runs, 10 loops each)\n",
      "2.1 ms ± 85.2 µs per loop (mean ± std. dev. of 7 runs, 100 loops each)\n",
      "226 µs ± 22.4 µs per loop (mean ± std. dev. of 7 runs, 1000 loops each)\n",
      "11.8 µs ± 370 ns per loop (mean ± std. dev. of 7 runs, 100000 loops each)\n"
     ]
    }
   ],
   "source": [
    "%timeit DFT_python(x)\n",
    "%timeit FFT(x)\n",
    "%timeit FFT_vectorised(x)\n",
    "%timeit np.fft.fft(x)"
   ]
  },
  {
   "cell_type": "code",
   "execution_count": null,
   "id": "d985e640-dc6c-47bb-bff1-88999cfbc5e9",
   "metadata": {},
   "outputs": [],
   "source": []
  }
 ],
 "metadata": {
  "kernelspec": {
   "display_name": "Python 3 (ipykernel)",
   "language": "python",
   "name": "python3"
  },
  "language_info": {
   "codemirror_mode": {
    "name": "ipython",
    "version": 3
   },
   "file_extension": ".py",
   "mimetype": "text/x-python",
   "name": "python",
   "nbconvert_exporter": "python",
   "pygments_lexer": "ipython3",
   "version": "3.12.2"
  }
 },
 "nbformat": 4,
 "nbformat_minor": 5
}
